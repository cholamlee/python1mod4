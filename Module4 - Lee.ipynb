{
 "cells": [
  {
   "cell_type": "markdown",
   "metadata": {},
   "source": [
    "### Module 4 Exercise"
   ]
  },
  {
   "cell_type": "markdown",
   "metadata": {},
   "source": [
    "1. How many occurences of \"row\" is in \"Row, row, row your boat. Gently down the stream. Merrily, merrily, merrily, merrily. Life is but a dream. Row, row, row your boat. Gently up the creek.\" "
   ]
  },
  {
   "cell_type": "code",
   "execution_count": 24,
   "metadata": {},
   "outputs": [
    {
     "name": "stdout",
     "output_type": "stream",
     "text": [
      "Row, row, row your boat. Gently down the stream. Merrily, merrily, merrily, merrily. Life is but a dream. Row, row, row your boat. Gently up the creek.\n",
      "There are  4 occurences of \"row\".\n"
     ]
    }
   ],
   "source": [
    "row=\"Row, row, row your boat. Gently down the stream. Merrily, merrily, merrily, merrily. Life is but a dream. Row, row, row your boat. Gently up the creek.\"\n",
    "print (row)\n",
    "countRow = row.count(\"row\")\n",
    "print (\"There are \", countRow, 'occurences of \"row\".')"
   ]
  },
  {
   "cell_type": "markdown",
   "metadata": {},
   "source": [
    "2. Ask a user for a name, color, and an animal.  <br>\n",
    "Then using string format method per each line, show following:<br>\n",
    "<b><i>name</i></b> had a little <b><i>animal</i></b>. <br>\n",
    "It was <b><i>color</i></b> as snow. <br>\n",
    "And everywhere that <b><i>name</i></b> went, the <b><i>animal</i></b> was sure to go."
   ]
  },
  {
   "cell_type": "code",
   "execution_count": 30,
   "metadata": {},
   "outputs": [
    {
     "name": "stdout",
     "output_type": "stream",
     "text": [
      "What is the name?\n",
      "Mary \n",
      "What is the animal?\n",
      "lamb\n",
      "What is the color?\n",
      "white\n",
      "Mary  had a little lamb\n",
      "It was white as snow\n"
     ]
    }
   ],
   "source": [
    "print (\"What is the name?\")\n",
    "name = input()\n",
    "print(\"What is the animal?\")\n",
    "animal=input() \n",
    "print(\"What is the color?\")\n",
    "color=input()\n",
    "print (name, \"had a little\", animal )\n",
    "print (\"It was\", color, \"as snow\")"
   ]
  },
  {
   "cell_type": "code",
   "execution_count": null,
   "metadata": {},
   "outputs": [],
   "source": []
  },
  {
   "cell_type": "markdown",
   "metadata": {},
   "source": [
    "3. Print 3.14159 in a scientific number notation "
   ]
  },
  {
   "cell_type": "code",
   "execution_count": 38,
   "metadata": {},
   "outputs": [
    {
     "name": "stdout",
     "output_type": "stream",
     "text": [
      "3.141559e+00\n"
     ]
    }
   ],
   "source": [
    "pi=3.141559\n",
    "print(f\"{pi:e}\")"
   ]
  },
  {
   "cell_type": "markdown",
   "metadata": {},
   "source": [
    "4. Print 3.1559 in 3 decimal places"
   ]
  },
  {
   "cell_type": "code",
   "execution_count": 41,
   "metadata": {},
   "outputs": [
    {
     "name": "stdout",
     "output_type": "stream",
     "text": [
      "3.156\n"
     ]
    }
   ],
   "source": [
    "print(f\"{3.1559:,.3f}\")"
   ]
  },
  {
   "cell_type": "markdown",
   "metadata": {},
   "source": [
    "5. Print 1589.92341 in a scientific number notation to the power of 3"
   ]
  },
  {
   "cell_type": "code",
   "execution_count": 57,
   "metadata": {},
   "outputs": [
    {
     "name": "stdout",
     "output_type": "stream",
     "text": [
      "4019098146.443506\n"
     ]
    }
   ],
   "source": [
    "print(pow(1589.92341,3))"
   ]
  },
  {
   "cell_type": "markdown",
   "metadata": {},
   "source": [
    "6. Convert 39 to a binary number using floor division and mod operators. Then, compare your answer using bin() and int() functions."
   ]
  },
  {
   "cell_type": "code",
   "execution_count": 12,
   "metadata": {},
   "outputs": [
    {
     "name": "stdout",
     "output_type": "stream",
     "text": [
      "displaying binary 0b100111\n",
      "Compare my answer with bin() and int()\n",
      "using bin() 0b100111\n",
      "using int() 39\n"
     ]
    }
   ],
   "source": [
    "# debug print(bin(39))\n",
    "binary = ''\n",
    "integer_value = 39\n",
    "while integer_value > 0:\n",
    "    binary = str(integer_value % 2)+ binary # mod + orginal string\n",
    "    # debug print(binary)\n",
    "    integer_value = integer_value // 2 #floor division\n",
    "    # debug print(integer_value)\n",
    "#debug print(binary)\n",
    "print(\"displaying binary\",\"0b\"+binary)\n",
    "print (\"Compare my answer with bin() and int()\")\n",
    "print(\"using bin()\", bin(39))\n",
    "print(\"using int()\", int(0b100111))"
   ]
  },
  {
   "cell_type": "code",
   "execution_count": null,
   "metadata": {},
   "outputs": [],
   "source": []
  },
  {
   "cell_type": "code",
   "execution_count": null,
   "metadata": {},
   "outputs": [],
   "source": []
  },
  {
   "cell_type": "code",
   "execution_count": null,
   "metadata": {},
   "outputs": [],
   "source": []
  },
  {
   "cell_type": "code",
   "execution_count": null,
   "metadata": {},
   "outputs": [],
   "source": []
  },
  {
   "cell_type": "code",
   "execution_count": null,
   "metadata": {},
   "outputs": [],
   "source": []
  },
  {
   "cell_type": "code",
   "execution_count": null,
   "metadata": {},
   "outputs": [],
   "source": []
  },
  {
   "cell_type": "code",
   "execution_count": null,
   "metadata": {},
   "outputs": [],
   "source": []
  },
  {
   "cell_type": "markdown",
   "metadata": {},
   "source": [
    "7. Convert 39 to an octal number using floor division and mod operators. Then, compare your answer using oct() and int() functions."
   ]
  },
  {
   "cell_type": "code",
   "execution_count": 22,
   "metadata": {},
   "outputs": [
    {
     "name": "stdout",
     "output_type": "stream",
     "text": [
      "display octal 0o47\n",
      "Compare my answer with oct() and int()\n",
      "using oct() 0o47\n",
      "using int() 39\n"
     ]
    }
   ],
   "source": [
    "# debug print(oct(39))\n",
    "octal = ''\n",
    "integer_value = 39\n",
    "while integer_value > 0:\n",
    "    octal = octal + str(integer_value % 8)  # mod + orginal string\n",
    "    # debug print(octal)\n",
    "    integer_value = integer_value // 8     # floor division\n",
    "    # debug print(integer_value)\n",
    "# print(octal)\n",
    "print(\"display octal\",\"0o\"+octal[::-1])\n",
    "print (\"Compare my answer with oct() and int()\")\n",
    "print(\"using oct()\",oct(39))\n",
    "print(\"using int()\",int(0o047))"
   ]
  },
  {
   "cell_type": "code",
   "execution_count": null,
   "metadata": {},
   "outputs": [],
   "source": []
  },
  {
   "cell_type": "code",
   "execution_count": null,
   "metadata": {},
   "outputs": [],
   "source": []
  },
  {
   "cell_type": "code",
   "execution_count": null,
   "metadata": {},
   "outputs": [],
   "source": []
  },
  {
   "cell_type": "markdown",
   "metadata": {},
   "source": [
    "8. Convert 39 to a hexadecimal number using floor division and mod operators. Then, compare your answer using hex() and int() functions."
   ]
  },
  {
   "cell_type": "code",
   "execution_count": 23,
   "metadata": {},
   "outputs": [
    {
     "name": "stdout",
     "output_type": "stream",
     "text": [
      "display hexadecimal 0o27\n",
      "Compare my answer with hex() and int()\n",
      "using hex() 0x27\n",
      "using int() 39\n"
     ]
    }
   ],
   "source": [
    "hexa = ''\n",
    "integer_value = 39\n",
    "while integer_value > 0:\n",
    "    hexa = hexa + str(integer_value % 16) # mod + original string\n",
    "    # debug print(hexa)\n",
    "    integer_value = integer_value // 16 # floor division\n",
    "    #debug print(integer_value)\n",
    "# debug print(hexa)\n",
    "print(\"display hexadecimal\",\"0o\"+hexa[::-1])\n",
    "print (\"Compare my answer with hex() and int()\")\n",
    "print(\"using hex()\",hex(39))\n",
    "print(\"using int()\",int(0x027))"
   ]
  },
  {
   "cell_type": "code",
   "execution_count": null,
   "metadata": {},
   "outputs": [],
   "source": []
  },
  {
   "cell_type": "code",
   "execution_count": null,
   "metadata": {},
   "outputs": [],
   "source": []
  },
  {
   "cell_type": "code",
   "execution_count": null,
   "metadata": {},
   "outputs": [],
   "source": []
  },
  {
   "cell_type": "markdown",
   "metadata": {},
   "source": [
    "9. Ask a user for an amount and a tax rate in percentage. Then, display the amount, rate in percentage, calculated tax amount, and the total (amount + tax amount) in one <b>nice</b> formmated print statement."
   ]
  },
  {
   "cell_type": "code",
   "execution_count": 27,
   "metadata": {},
   "outputs": [
    {
     "name": "stdout",
     "output_type": "stream",
     "text": [
      "Please enter an amount\n",
      "200\n",
      "Please enter a tax rate in percentage\n",
      "6\n",
      "Amount is $200.00\n",
      "Tax rate is 6%\n",
      "Total Amount is) $212.00\n"
     ]
    }
   ],
   "source": [
    "print(\"Please enter an amount\")\n",
    "amount = input()\n",
    "amt = float(amount)\n",
    "print(\"Please enter a tax rate in percentage\")\n",
    "percent = input()\n",
    "taxRate = float(percent) / 100\n",
    "print(\"Amount is\",f\"${amt:,.2f}\")\n",
    "print(\"Tax rate is\", percent+\"%\")\n",
    "total = amt + (amt * taxRate) # total = amount + tax amount\n",
    "print(\"Total Amount is)\",f\"${total:,.2f}\")"
   ]
  },
  {
   "cell_type": "code",
   "execution_count": null,
   "metadata": {},
   "outputs": [],
   "source": []
  },
  {
   "cell_type": "code",
   "execution_count": null,
   "metadata": {},
   "outputs": [],
   "source": []
  }
 ],
 "metadata": {
  "kernelspec": {
   "display_name": "Python 3 (ipykernel)",
   "language": "python",
   "name": "python3"
  },
  "language_info": {
   "codemirror_mode": {
    "name": "ipython",
    "version": 3
   },
   "file_extension": ".py",
   "mimetype": "text/x-python",
   "name": "python",
   "nbconvert_exporter": "python",
   "pygments_lexer": "ipython3",
   "version": "3.11.5"
  }
 },
 "nbformat": 4,
 "nbformat_minor": 4
}
